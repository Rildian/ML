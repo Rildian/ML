{
 "cells": [
  {
   "cell_type": "code",
   "execution_count": null,
   "id": "6635876b",
   "metadata": {},
   "outputs": [],
   "source": [
    "import pandas as pd\n",
    "import numpy as np\n",
    "import seaborn as sns\n",
    "import matplotlib.pyplot as plt\n",
    "import plotly.express as px"
   ]
  },
  {
   "cell_type": "code",
   "execution_count": null,
   "id": "6a0ac03f",
   "metadata": {},
   "outputs": [],
   "source": [
    "data = pd.read_csv('../Dados/credit_data.csv')\n",
    "data"
   ]
  },
  {
   "cell_type": "code",
   "execution_count": null,
   "id": "8a3bacfe",
   "metadata": {},
   "outputs": [],
   "source": [
    "data.dtypes"
   ]
  },
  {
   "cell_type": "code",
   "execution_count": null,
   "id": "c13967b8",
   "metadata": {},
   "outputs": [],
   "source": [
    "data.describe()"
   ]
  },
  {
   "cell_type": "code",
   "execution_count": null,
   "id": "92c35fb1",
   "metadata": {},
   "outputs": [],
   "source": [
    "data.info()"
   ]
  },
  {
   "cell_type": "code",
   "execution_count": null,
   "id": "8ba1c986",
   "metadata": {},
   "outputs": [],
   "source": [
    "data.query(\"income == 69995.6855783239\")"
   ]
  },
  {
   "cell_type": "code",
   "execution_count": null,
   "id": "b2a1ccaf",
   "metadata": {},
   "outputs": [],
   "source": [
    "data['loan'].min()\n",
    "data.query(\"loan == 1.37762959325451\")"
   ]
  },
  {
   "cell_type": "code",
   "execution_count": null,
   "id": "accb731e",
   "metadata": {},
   "outputs": [],
   "source": [
    "data['default'].value_counts(normalize=True)"
   ]
  },
  {
   "cell_type": "code",
   "execution_count": null,
   "id": "9e95a86e",
   "metadata": {},
   "outputs": [],
   "source": [
    "sns.countplot(x=data['default']);"
   ]
  },
  {
   "cell_type": "code",
   "execution_count": null,
   "id": "7487e513",
   "metadata": {},
   "outputs": [],
   "source": [
    "plt.hist(x=data['age']);"
   ]
  },
  {
   "cell_type": "code",
   "execution_count": null,
   "id": "536ac068",
   "metadata": {},
   "outputs": [],
   "source": [
    "plt.hist(x=data['income']);"
   ]
  },
  {
   "cell_type": "code",
   "execution_count": null,
   "id": "7e94634f",
   "metadata": {},
   "outputs": [],
   "source": [
    "plt.hist(x=data['loan']);"
   ]
  },
  {
   "cell_type": "code",
   "execution_count": null,
   "id": "026a0da1",
   "metadata": {},
   "outputs": [],
   "source": [
    "grafico = px.scatter_matrix(data, dimensions=['age', 'income', 'loan'], color='default') # interessante esse color\n",
    "grafico.show()"
   ]
  },
  {
   "cell_type": "code",
   "execution_count": null,
   "id": "473f3c15",
   "metadata": {},
   "outputs": [],
   "source": [
    "data.query('age < 0')"
   ]
  },
  {
   "cell_type": "code",
   "execution_count": null,
   "id": "7c4ebfd3",
   "metadata": {},
   "outputs": [],
   "source": [
    "data2 = data.copy()\n",
    "data2"
   ]
  },
  {
   "cell_type": "code",
   "execution_count": null,
   "id": "51531421",
   "metadata": {},
   "outputs": [],
   "source": [
    "data2 = data2.drop(data.query(\"age < 0\").index)\n",
    "data2"
   ]
  },
  {
   "cell_type": "code",
   "execution_count": null,
   "id": "e4d3d930",
   "metadata": {},
   "outputs": [],
   "source": [
    "data2.query(\"age < 0\")"
   ]
  },
  {
   "cell_type": "code",
   "execution_count": null,
   "id": "a8dde7f6",
   "metadata": {},
   "outputs": [],
   "source": [
    "data['age'].mean() # cuidado pq aq ta levando em conta os valores negativos\n",
    "value = data.query(\"age > 0\")[\"age\"].mean()"
   ]
  },
  {
   "cell_type": "code",
   "execution_count": null,
   "id": "f15dbcc6",
   "metadata": {},
   "outputs": [],
   "source": [
    "data.loc[data[\"age\"] < 0, 'age'] = value # uma maneira de lidar c/ valores negativos e precisa por 'age' no final p/ não atualizar a linha inteira, é tipo meu WHERE\n",
    "data.query(\"age < 0\")"
   ]
  },
  {
   "cell_type": "code",
   "execution_count": null,
   "id": "5575e7e2",
   "metadata": {},
   "outputs": [],
   "source": [
    "data.iloc[[15, 21, 26]] # agora estão corrigidos"
   ]
  },
  {
   "cell_type": "code",
   "execution_count": null,
   "id": "38920f19",
   "metadata": {},
   "outputs": [],
   "source": [
    "data.isna().sum()"
   ]
  },
  {
   "cell_type": "code",
   "execution_count": null,
   "id": "3631bbb3",
   "metadata": {},
   "outputs": [],
   "source": [
    "np.where(pd.isnull(data)) # retorna os indices aqui"
   ]
  },
  {
   "cell_type": "code",
   "execution_count": null,
   "id": "7513d4b2",
   "metadata": {},
   "outputs": [],
   "source": [
    "data['age']"
   ]
  },
  {
   "cell_type": "code",
   "execution_count": null,
   "id": "4c675105",
   "metadata": {},
   "outputs": [],
   "source": [
    "data['age'].iloc[28]\n",
    "data['age'].iloc[30]\n",
    "data['age'].iloc[31]\n",
    "\n",
    "# agr vamos preencher esses caras seguindo a msm logica"
   ]
  },
  {
   "cell_type": "code",
   "execution_count": null,
   "id": "ce85146c",
   "metadata": {},
   "outputs": [],
   "source": [
    "data.loc[data['age'] != np.nan].mean()\n",
    "value = 40.927700"
   ]
  },
  {
   "cell_type": "code",
   "execution_count": null,
   "id": "cc5c60bf",
   "metadata": {},
   "outputs": [],
   "source": [
    "data['age'].fillna(value=value, inplace=True)\n",
    "data.isna().sum()"
   ]
  },
  {
   "cell_type": "code",
   "execution_count": null,
   "id": "ef2973e6",
   "metadata": {},
   "outputs": [],
   "source": [
    "# variavel previsora de x, variavel de classe y\n",
    "x_credit = data.iloc[::, 1:4].values # .values?\n",
    "type(x_credit)"
   ]
  },
  {
   "cell_type": "code",
   "execution_count": null,
   "id": "1a32caf4",
   "metadata": {},
   "outputs": [],
   "source": [
    "y_credit = data.iloc[:, 4].values\n",
    "y_credit"
   ]
  },
  {
   "cell_type": "code",
   "execution_count": null,
   "id": "5ead8cec",
   "metadata": {},
   "outputs": [],
   "source": [
    "x_credit[::, 1]"
   ]
  },
  {
   "cell_type": "code",
   "execution_count": null,
   "id": "5606e9df",
   "metadata": {},
   "outputs": [],
   "source": [
    "x_credit[::, 2]"
   ]
  },
  {
   "cell_type": "code",
   "execution_count": null,
   "id": "4112a3a6",
   "metadata": {},
   "outputs": [],
   "source": [
    "x_credit[::, 1].min()"
   ]
  },
  {
   "cell_type": "code",
   "execution_count": null,
   "id": "fbda5097",
   "metadata": {},
   "outputs": [],
   "source": [
    "x_credit[::, 0].min(), x_credit[::, 1].min(), x_credit[::, 2].min()\n"
   ]
  },
  {
   "cell_type": "code",
   "execution_count": null,
   "id": "f8c140d3",
   "metadata": {},
   "outputs": [],
   "source": [
    "x_credit[::, 0].max(), x_credit[::, 1].max(), x_credit[::, 2].max()"
   ]
  },
  {
   "cell_type": "code",
   "execution_count": null,
   "id": "249ac08c",
   "metadata": {},
   "outputs": [],
   "source": [
    "from sklearn.preprocessing import StandardScaler\n",
    "scaler_credit = StandardScaler()\n",
    "x_credit = scaler_credit.fit_transform(x_credit)"
   ]
  },
  {
   "cell_type": "code",
   "execution_count": null,
   "id": "4bd123eb",
   "metadata": {},
   "outputs": [],
   "source": [
    "x_credit[::, 0].min(), x_credit[::, 1].min(), x_credit[::, 2].min()"
   ]
  },
  {
   "cell_type": "code",
   "execution_count": null,
   "id": "1cb51d57",
   "metadata": {},
   "outputs": [],
   "source": [
    "x_credit[::, 0].max(), x_credit[::, 1].max(), x_credit[::, 2].max()"
   ]
  }
 ],
 "metadata": {
  "kernelspec": {
   "display_name": "base",
   "language": "python",
   "name": "python3"
  },
  "language_info": {
   "codemirror_mode": {
    "name": "ipython",
    "version": 3
   },
   "file_extension": ".py",
   "mimetype": "text/x-python",
   "name": "python",
   "nbconvert_exporter": "python",
   "pygments_lexer": "ipython3",
   "version": "3.12.7"
  }
 },
 "nbformat": 4,
 "nbformat_minor": 5
}
