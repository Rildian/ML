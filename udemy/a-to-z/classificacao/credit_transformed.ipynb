{
 "cells": [
  {
   "cell_type": "code",
   "execution_count": null,
   "id": "6ae7223b",
   "metadata": {},
   "outputs": [],
   "source": [
    "import pandas as pd\n",
    "import numpy as np\n",
    "import seaborn as sns\n",
    "import matplotlib.pyplot as plt\n",
    "import plotly.express as px\n",
    "from sklearn.preprocessing import StandardScaler"
   ]
  },
  {
   "cell_type": "code",
   "execution_count": null,
   "id": "db1185eb",
   "metadata": {},
   "outputs": [],
   "source": [
    "df = pd.read_csv('../Dados/credit_data.csv')"
   ]
  },
  {
   "cell_type": "code",
   "execution_count": null,
   "id": "27163285",
   "metadata": {},
   "outputs": [],
   "source": [
    "value = df.query(\"age > 0\")[\"age\"].mean()\n",
    "df.loc[df['age'] < 0, 'age'] = value"
   ]
  },
  {
   "cell_type": "code",
   "execution_count": null,
   "id": "ce739ccd",
   "metadata": {},
   "outputs": [],
   "source": [
    "df2 = df.copy()\n",
    "np.where(pd.isnull(df2))\n",
    "# [28, 30, 31]\n",
    "\n",
    "df2.drop(index=[28, 30, 31], axis=0, inplace=True) # dropar essas linhas"
   ]
  },
  {
   "cell_type": "code",
   "execution_count": null,
   "id": "4d7235b3",
   "metadata": {},
   "outputs": [],
   "source": [
    "value = df2['age'].mean()"
   ]
  },
  {
   "cell_type": "code",
   "execution_count": null,
   "id": "1b4be16b",
   "metadata": {},
   "outputs": [],
   "source": [
    "df.fillna(value=value, inplace=True)"
   ]
  },
  {
   "cell_type": "code",
   "execution_count": null,
   "id": "e3e650b6",
   "metadata": {},
   "outputs": [],
   "source": [
    "df2.isna().sum()"
   ]
  },
  {
   "cell_type": "code",
   "execution_count": null,
   "id": "598b840c",
   "metadata": {},
   "outputs": [],
   "source": [
    "x_credit = df.iloc[::, 1:4].values\n",
    "y_credit = df.iloc[::, 4]"
   ]
  },
  {
   "cell_type": "code",
   "execution_count": null,
   "id": "3f4bc703",
   "metadata": {},
   "outputs": [],
   "source": [
    "scaler_credit = StandardScaler()"
   ]
  },
  {
   "cell_type": "code",
   "execution_count": null,
   "id": "4c239d3c",
   "metadata": {},
   "outputs": [],
   "source": [
    "x_credit = scaler_credit.fit_transform(x_credit)\n",
    "x_credit"
   ]
  },
  {
   "cell_type": "code",
   "execution_count": null,
   "id": "028e793e",
   "metadata": {},
   "outputs": [],
   "source": [
    "from sklearn.model_selection import train_test_split"
   ]
  },
  {
   "cell_type": "code",
   "execution_count": null,
   "id": "fd766026",
   "metadata": {},
   "outputs": [],
   "source": [
    "x_credit_training, x_credit_test, y_credit_training, y_credit_test = train_test_split(\n",
    "    x_credit, y_credit, test_size = 0.25, random_state=0\n",
    ")"
   ]
  },
  {
   "cell_type": "code",
   "execution_count": null,
   "id": "ac95a6bd",
   "metadata": {},
   "outputs": [],
   "source": [
    "x_credit.shape"
   ]
  },
  {
   "cell_type": "code",
   "execution_count": null,
   "id": "2158588e",
   "metadata": {},
   "outputs": [],
   "source": [
    "x_credit_test.shape"
   ]
  },
  {
   "cell_type": "code",
   "execution_count": null,
   "id": "b1b1b143",
   "metadata": {},
   "outputs": [],
   "source": [
    "x_credit_training.shape"
   ]
  },
  {
   "cell_type": "code",
   "execution_count": null,
   "id": "f13ef980",
   "metadata": {},
   "outputs": [],
   "source": [
    "import pickle"
   ]
  },
  {
   "cell_type": "code",
   "execution_count": null,
   "id": "3f26fafa",
   "metadata": {},
   "outputs": [],
   "source": [
    "with open('credit.pkl', mode='wb') as f:\n",
    "    pickle.dump([x_credit_training, y_credit_training, \n",
    "                 x_credit_test, y_credit_test], f)"
   ]
  }
 ],
 "metadata": {
  "kernelspec": {
   "display_name": "base",
   "language": "python",
   "name": "python3"
  },
  "language_info": {
   "codemirror_mode": {
    "name": "ipython",
    "version": 3
   },
   "file_extension": ".py",
   "mimetype": "text/x-python",
   "name": "python",
   "nbconvert_exporter": "python",
   "pygments_lexer": "ipython3",
   "version": "3.12.7"
  }
 },
 "nbformat": 4,
 "nbformat_minor": 5
}
