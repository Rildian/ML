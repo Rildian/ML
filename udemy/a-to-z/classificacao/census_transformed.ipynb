{
 "cells": [
  {
   "cell_type": "code",
   "execution_count": null,
   "id": "09175503",
   "metadata": {},
   "outputs": [],
   "source": [
    "import pandas as pd\n",
    "import numpy as np\n",
    "import seaborn as sns\n",
    "import matplotlib.pyplot as plt\n",
    "import plotly.express as px\n",
    "from sklearn.preprocessing import StandardScaler, LabelEncoder, OneHotEncoder"
   ]
  },
  {
   "cell_type": "code",
   "execution_count": null,
   "id": "6efe622b",
   "metadata": {},
   "outputs": [],
   "source": [
    "data = pd.read_csv('../Dados/census.csv')"
   ]
  },
  {
   "cell_type": "code",
   "execution_count": null,
   "id": "70875d2e",
   "metadata": {},
   "outputs": [],
   "source": [
    "data"
   ]
  },
  {
   "cell_type": "code",
   "execution_count": null,
   "id": "adbedf2f",
   "metadata": {},
   "outputs": [],
   "source": [
    "x_census = data.iloc[::, 0:14].values"
   ]
  },
  {
   "cell_type": "code",
   "execution_count": null,
   "id": "86247c97",
   "metadata": {},
   "outputs": [],
   "source": [
    "x_census"
   ]
  },
  {
   "cell_type": "code",
   "execution_count": null,
   "id": "c73b9791",
   "metadata": {},
   "outputs": [],
   "source": [
    "y_census = data.iloc[::, 14].values\n",
    "y_census"
   ]
  },
  {
   "cell_type": "code",
   "execution_count": null,
   "id": "d41c5883",
   "metadata": {},
   "outputs": [],
   "source": [
    "label_enconder_teste = LabelEncoder()"
   ]
  },
  {
   "cell_type": "code",
   "execution_count": null,
   "id": "b4f02691",
   "metadata": {},
   "outputs": [],
   "source": [
    "x_census[:, 1]"
   ]
  },
  {
   "cell_type": "code",
   "execution_count": null,
   "id": "0f247069",
   "metadata": {},
   "outputs": [],
   "source": [
    "teste = label_enconder_teste.fit_transform(x_census[:, 1].astype(str))\n",
    "teste"
   ]
  },
  {
   "cell_type": "code",
   "execution_count": null,
   "id": "7155312e",
   "metadata": {},
   "outputs": [],
   "source": [
    "data"
   ]
  },
  {
   "cell_type": "code",
   "execution_count": null,
   "id": "14cbf8cf",
   "metadata": {},
   "outputs": [],
   "source": [
    "data.dtypes"
   ]
  },
  {
   "cell_type": "code",
   "execution_count": null,
   "id": "491555a0",
   "metadata": {},
   "outputs": [],
   "source": [
    "label_encoder_workclass = LabelEncoder()\n",
    "label_encoder_education = LabelEncoder()\n",
    "label_encoder_marital_status = LabelEncoder()\n",
    "label_encoder_occupation = LabelEncoder()\n",
    "label_encoder_relationship = LabelEncoder()\n",
    "label_encoder_race = LabelEncoder()\n",
    "label_encoder_sex = LabelEncoder()\n",
    "label_encoder_country = LabelEncoder()"
   ]
  },
  {
   "cell_type": "code",
   "execution_count": null,
   "id": "d3decb74",
   "metadata": {},
   "outputs": [],
   "source": [
    "x_census[:, 1] = label_encoder_workclass.fit_transform(x_census[:, 1])         # workclass\n",
    "x_census[:, 3] = label_encoder_education.fit_transform(x_census[:, 3])         # education\n",
    "x_census[:, 5] = label_encoder_marital_status.fit_transform(x_census[:, 5])    # marital-status\n",
    "x_census[:, 6] = label_encoder_occupation.fit_transform(x_census[:, 6])        # occupation\n",
    "x_census[:, 7] = label_encoder_relationship.fit_transform(x_census[:, 7])      # relationship\n",
    "x_census[:, 8] = label_encoder_race.fit_transform(x_census[:, 8])              # race\n",
    "x_census[:, 9] = label_encoder_sex.fit_transform(x_census[:, 9])               # sex\n",
    "x_census[:, 13] = label_encoder_country.fit_transform(x_census[:, 13])         # country"
   ]
  },
  {
   "cell_type": "code",
   "execution_count": null,
   "id": "b1d7c6f9",
   "metadata": {},
   "outputs": [],
   "source": [
    "x_census[0]"
   ]
  },
  {
   "cell_type": "code",
   "execution_count": null,
   "id": "cc83b29f",
   "metadata": {},
   "outputs": [],
   "source": [
    "x_census2 = x_census.copy()\n",
    "y_census2 = y_census.copy()"
   ]
  },
  {
   "cell_type": "code",
   "execution_count": null,
   "id": "421cb48b",
   "metadata": {},
   "outputs": [],
   "source": [
    "from sklearn.compose import ColumnTransformer"
   ]
  },
  {
   "cell_type": "code",
   "execution_count": null,
   "id": "c2756f32",
   "metadata": {},
   "outputs": [],
   "source": [
    "one_hot_enconder_census = ColumnTransformer(transformers=[('OneHot', OneHotEncoder(), [1, 3, 5, 6, 7, 8, 9, 13])], remainder='passthrough')"
   ]
  },
  {
   "cell_type": "code",
   "execution_count": null,
   "id": "58e28074",
   "metadata": {},
   "outputs": [],
   "source": [
    "x_census2 = one_hot_enconder_census.fit_transform(x_census2).toarray()"
   ]
  },
  {
   "cell_type": "code",
   "execution_count": null,
   "id": "75a41bf7",
   "metadata": {},
   "outputs": [],
   "source": [
    "x_census2"
   ]
  },
  {
   "cell_type": "code",
   "execution_count": null,
   "id": "9e6116c3",
   "metadata": {},
   "outputs": [],
   "source": [
    "data.shape"
   ]
  },
  {
   "cell_type": "code",
   "execution_count": null,
   "id": "0bb13f33",
   "metadata": {},
   "outputs": [],
   "source": [
    "x_census.shape"
   ]
  },
  {
   "cell_type": "code",
   "execution_count": null,
   "id": "ce6febff",
   "metadata": {},
   "outputs": [],
   "source": [
    "x_census2.shape"
   ]
  },
  {
   "cell_type": "code",
   "execution_count": null,
   "id": "2e8a68aa",
   "metadata": {},
   "outputs": [],
   "source": [
    "scaler_x = StandardScaler()\n",
    "x_census2 = scaler_x.fit_transform(x_census2)"
   ]
  },
  {
   "cell_type": "code",
   "execution_count": null,
   "id": "75a07f84",
   "metadata": {},
   "outputs": [],
   "source": [
    "x_census2"
   ]
  },
  {
   "cell_type": "code",
   "execution_count": null,
   "id": "bd998838",
   "metadata": {},
   "outputs": [],
   "source": [
    "from sklearn.model_selection import train_test_split"
   ]
  },
  {
   "cell_type": "code",
   "execution_count": null,
   "id": "3fd99189",
   "metadata": {},
   "outputs": [],
   "source": [
    "x_census_training, x_census_test, y_census_training, y_census_test = train_test_split(\n",
    "    x_census2, y_census2, test_size=0.15, random_state=0\n",
    ")\n",
    "# treinamento, teste, treinamento, teste, x,y"
   ]
  },
  {
   "cell_type": "code",
   "execution_count": null,
   "id": "94d2d421",
   "metadata": {},
   "outputs": [],
   "source": [
    "x_census_training.shape, y_census_training.shape"
   ]
  },
  {
   "cell_type": "code",
   "execution_count": null,
   "id": "b49fe4f4",
   "metadata": {},
   "outputs": [],
   "source": [
    "x_census_test.shape, y_census_test.shape"
   ]
  },
  {
   "cell_type": "code",
   "execution_count": null,
   "id": "acfe6e4f",
   "metadata": {},
   "outputs": [],
   "source": [
    "import pickle"
   ]
  },
  {
   "cell_type": "code",
   "execution_count": null,
   "id": "6e9a3a12",
   "metadata": {},
   "outputs": [],
   "source": [
    "with open('census.pkl', mode='wb') as f:\n",
    "    pickle.dump([x_census_training, y_census_training, x_census_test, y_census_test], f)"
   ]
  }
 ],
 "metadata": {
  "kernelspec": {
   "display_name": "base",
   "language": "python",
   "name": "python3"
  },
  "language_info": {
   "codemirror_mode": {
    "name": "ipython",
    "version": 3
   },
   "file_extension": ".py",
   "mimetype": "text/x-python",
   "name": "python",
   "nbconvert_exporter": "python",
   "pygments_lexer": "ipython3",
   "version": "3.12.7"
  }
 },
 "nbformat": 4,
 "nbformat_minor": 5
}
