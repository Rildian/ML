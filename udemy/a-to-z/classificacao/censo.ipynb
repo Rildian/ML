{
 "cells": [
  {
   "cell_type": "code",
   "execution_count": null,
   "id": "4ac5d00b",
   "metadata": {},
   "outputs": [],
   "source": [
    "import pandas as pd\n",
    "import numpy as np\n",
    "import seaborn as sns\n",
    "import matplotlib.pyplot as plt\n",
    "import plotly.express as px\n",
    "from sklearn.preprocessing import StandardScaler"
   ]
  },
  {
   "cell_type": "code",
   "execution_count": null,
   "id": "7865d5c4",
   "metadata": {},
   "outputs": [],
   "source": [
    "data = pd.read_csv('../Dados/census.csv')\n",
    "data"
   ]
  },
  {
   "cell_type": "code",
   "execution_count": null,
   "id": "213d61e4",
   "metadata": {},
   "outputs": [],
   "source": [
    "data.describe()"
   ]
  },
  {
   "cell_type": "code",
   "execution_count": null,
   "id": "8d9a1522",
   "metadata": {},
   "outputs": [],
   "source": [
    "data.groupby(\"income\").agg(avg_edu=(\"education-num\", \"mean\"))"
   ]
  },
  {
   "cell_type": "code",
   "execution_count": null,
   "id": "ebf8e0b1",
   "metadata": {},
   "outputs": [],
   "source": [
    "data.isna().sum()"
   ]
  },
  {
   "cell_type": "code",
   "execution_count": null,
   "id": "b7de21ba",
   "metadata": {},
   "outputs": [],
   "source": [
    "data['income'].value_counts(normalize=True)"
   ]
  },
  {
   "cell_type": "code",
   "execution_count": null,
   "id": "f2b90a38",
   "metadata": {},
   "outputs": [],
   "source": [
    "plt.hist(x=data['education-num']);"
   ]
  },
  {
   "cell_type": "code",
   "execution_count": null,
   "id": "53d3aec0",
   "metadata": {},
   "outputs": [],
   "source": [
    "plt.hist(x=data['hour-per-week']);"
   ]
  },
  {
   "cell_type": "code",
   "execution_count": null,
   "id": "411ae0a0",
   "metadata": {},
   "outputs": [],
   "source": [
    "graph = px.treemap(data, path=['workclass'])\n",
    "graph.show()"
   ]
  },
  {
   "cell_type": "code",
   "execution_count": null,
   "id": "88bde152",
   "metadata": {},
   "outputs": [],
   "source": [
    "graph = px.treemap(data, path=[\"income\"])\n",
    "graph.show()"
   ]
  },
  {
   "cell_type": "code",
   "execution_count": null,
   "id": "90ea64b4",
   "metadata": {},
   "outputs": [],
   "source": [
    "data.groupby(\"race\").agg(amount=(\"income\", \"count\")).sort_values(by=\"amount\", ascending=False)"
   ]
  },
  {
   "cell_type": "code",
   "execution_count": null,
   "id": "fe849cdb",
   "metadata": {},
   "outputs": [],
   "source": [
    "data['income'] = data['income'].str.strip()\n",
    "data['income']"
   ]
  },
  {
   "cell_type": "code",
   "execution_count": null,
   "id": "e6c3df8d",
   "metadata": {},
   "outputs": [],
   "source": [
    "greater_than50 = data.copy()"
   ]
  },
  {
   "cell_type": "code",
   "execution_count": null,
   "id": "5d92f789",
   "metadata": {},
   "outputs": [],
   "source": [
    "greater_than50 = greater_than50.query(\"income == '>50K'\")"
   ]
  },
  {
   "cell_type": "code",
   "execution_count": null,
   "id": "c489cf4b",
   "metadata": {},
   "outputs": [],
   "source": [
    "smaller_than50 = data.query(\"income == '<=50K'\")"
   ]
  },
  {
   "cell_type": "code",
   "execution_count": null,
   "id": "a11e6724",
   "metadata": {},
   "outputs": [],
   "source": [
    "smaller_than50.groupby(\"race\").agg(less_than50k = (\"income\", \"count\")).sort_values(by=\"less_than50k\")"
   ]
  },
  {
   "cell_type": "code",
   "execution_count": null,
   "id": "285424c5",
   "metadata": {},
   "outputs": [],
   "source": []
  },
  {
   "cell_type": "code",
   "execution_count": null,
   "id": "fb78b76d",
   "metadata": {},
   "outputs": [],
   "source": [
    "greater_than50.groupby(\"race\").agg(great_than50k = (\"income\", \"count\")).sort_values(by=\"great_than50k\")"
   ]
  },
  {
   "cell_type": "code",
   "execution_count": null,
   "id": "d52eef6a",
   "metadata": {},
   "outputs": [],
   "source": [
    "graph = px.parallel_categories(data, dimensions=['occupation', 'relationship'])\n",
    "graph.show()"
   ]
  },
  {
   "cell_type": "code",
   "execution_count": null,
   "id": "b83bedf8",
   "metadata": {},
   "outputs": [],
   "source": []
  }
 ],
 "metadata": {
  "kernelspec": {
   "display_name": "base",
   "language": "python",
   "name": "python3"
  },
  "language_info": {
   "codemirror_mode": {
    "name": "ipython",
    "version": 3
   },
   "file_extension": ".py",
   "mimetype": "text/x-python",
   "name": "python",
   "nbconvert_exporter": "python",
   "pygments_lexer": "ipython3",
   "version": "3.12.7"
  }
 },
 "nbformat": 4,
 "nbformat_minor": 5
}
